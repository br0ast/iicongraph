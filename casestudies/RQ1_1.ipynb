{
 "cells": [
  {
   "cell_type": "markdown",
   "id": "2fc4a342-042e-4394-bd89-af8c582ea2f9",
   "metadata": {},
   "source": [
    "# Answering RQ1_1: Counting serendipitous connections in Wikidata"
   ]
  },
  {
   "cell_type": "markdown",
   "id": "131a6807-2e53-4210-a590-546d3d9d3d07",
   "metadata": {},
   "source": [
    "## Resources needed for this test\n",
    "\n",
    "IICONGRAPHwikidata, either [downloaded from zenodo](https://zenodo.org/records/10294589) or produced following the guidelines in the [\\docs](https://github.com/br0ast/iicongraph/tree/main/docs) part of this repository.\n",
    "\n",
    "It needs to be loaded in a GraphDB or blazegraph triplestore.\n",
    "\n",
    "Additional libraries can be installed via the **requirements.txt** file in this repository.\n",
    "\n",
    "## Rationale behind this connection selection\n",
    "\n",
    "First, we need to extract the symbols of HyperReal matched in Wikidata that are linked to a symbolic meaning **shared by more than 1 symbol** (example: rose is a symbol, love, friendship, marriage could be the symbolic meaning of rose). This is important, as we are trying to connect artworks by their symbolic meaning (and not the symbols, as connecting the symbols would be the same as connecting artworks because they depict the same thing). **Symbolic meanings that are only associated with a symbol are excluded because connecting artwork via them equals to connecting via their depictions**. For example if \"resurrection\" is the symbolic meaning of **only** the term \"apple\", all the paintings that would be connected because they symbolize \"resurrection\" depict an apple, and therefore there would be no distinction between connecting them because they depict an \"apple\" or because they symbolize resurrection, and this connection does not count for the analysis.\n",
    "\n",
    "Once we extract this list of symbols, we pre compute how many symbolic meaning they share with each other.\n",
    "\n",
    "Then, we extract from IICONGRAPHwiki, all the paintings that depict at least one of the selected symbols, and their depiction.\n",
    "\n",
    "Then, we compare all the extracted paintings in pairs, counting the symbolic connections that they share by checking, using the pre-computed selection performed before, how many symbolic meaning each of their depictions share, making sure that we exclude from the count the connections shared by the **same depiction**\n",
    "\n",
    "### Example scenario\n",
    "\n",
    "Painting A depicts a *dog* and an *apple*, and Painting B depicts a *cat* and an *apple*.\n",
    "\n",
    "* *dog* is linked to the symbolic meanings of *fidelity*, *envy*, and *family*. \n",
    "* *cat* is linked to the symbolic meaning of *envy*, *loneliness*, *family*. and *health*.\n",
    "* *apple* is linked to the symbolic meaning of *original sin*, *health*.\n",
    "\n",
    "By comparing *dog* and *cat* we get two connections (via *envy* and via *family*). By comparing *dog* and *apple* we get zero connections. By comparing *apple* and *cat* we get one connection (via *health*). We don't compare *apple* and *apple* because they are the same element, and we count 0 connections between them.\n",
    "\n",
    "In total, we have 3 symbolic connections between Painting A and Painting B.\n",
    "\n",
    "\n",
    "\n",
    "\n"
   ]
  },
  {
   "cell_type": "markdown",
   "id": "d17f9bf0-c745-4c76-b4ab-e611673ebf57",
   "metadata": {},
   "source": [
    "# Extracting symbols and symbolic meanings (if the symbolic meaning is symbolized by more than 1 symbol)"
   ]
  },
  {
   "cell_type": "code",
   "execution_count": 3,
   "id": "d4d42cf9-6754-4ecb-9c3f-cfa97e46fef6",
   "metadata": {},
   "outputs": [],
   "source": [
    "from pymantic import sparql\n",
    "server = sparql.SPARQLServer('http://localhost:7200/repositories/IICONGRAPHwiki') #only works if \n",
    "# you set up iicongraphwikidata in blazegraph or graphdb"
   ]
  },
  {
   "cell_type": "code",
   "execution_count": 7,
   "id": "7361ec78-b83e-4312-82aa-83fbfb01b772",
   "metadata": {},
   "outputs": [],
   "source": [
    "query = '''\n",
    "prefix crm:<http://www.cidoc-crm.org/cidoc-crm/> \n",
    "prefix dul:<http://www.ontologydesignpatterns.org/ont/dul/DUL.owl#> \n",
    "prefix hyr:<https://w3id.org/simulation/data/> \n",
    "prefix icon:<https://w3id.org/icon/ontology/> \n",
    "prefix prov:<http://www.w3.org/ns/prov#> \n",
    "prefix rdfs:<http://www.w3.org/2000/01/rdf-schema#> \n",
    "prefix sim:<https://w3id.org/simulation/ontology/> \n",
    "prefix wd:<http://www.wikidata.org/entity/> \n",
    "prefix wicon:<http://www.example.org/wikicon/>\n",
    "\n",
    "#select (AVG(?tot) as ?average) where \n",
    "#{ \n",
    "  select distinct ?simulacra ?rc WHERE { ?ico icon:aboutWorkOfArt ?painting;\n",
    "                                          icon:recognizedImage ?img .\n",
    "                                    ?img icon:hasSymbol ?symbol .\n",
    "                                    ?symbol sim:hasSimulacrum ?simulacra;\n",
    "                                    sim:hasRealityCounterpart|sim:easedRealityCounterpart|\n",
    "                                               sim:healedRealityCounterpart|sim:restoredRealityCounterpart|\n",
    "                                               sim:preventedRealityCounterpart\n",
    "                                               |sim:elicitedRealityCounterpart ?rc . {\n",
    "                                    select ?rc (count(distinct ?simu) as ?tot) where { ?simu sim:hasRealityCounterpart|sim:easedRealityCounterpart|\n",
    "                                               sim:healedRealityCounterpart|sim:restoredRealityCounterpart|\n",
    "                                               sim:preventedRealityCounterpart\n",
    "                                               |sim:elicitedRealityCounterpart ?rc } group by ?rc having (?tot > 1)\n",
    "                                            } }'''\n",
    "res = server.query(query)"
   ]
  },
  {
   "cell_type": "code",
   "execution_count": 8,
   "id": "2c76470c-4e9f-4e0b-bc26-13545a3d99e2",
   "metadata": {},
   "outputs": [],
   "source": [
    "simu_ser = []\n",
    "for el in res[\"results\"][\"bindings\"]:\n",
    "    simu_ser.append(el[\"simulacra\"][\"value\"])"
   ]
  },
  {
   "cell_type": "code",
   "execution_count": 10,
   "id": "ea18503b-8305-4713-9c49-db67dca11289",
   "metadata": {},
   "outputs": [],
   "source": [
    "simurc_ser = dict()\n",
    "for el in res[\"results\"][\"bindings\"]:\n",
    "    if el[\"simulacra\"][\"value\"] not in simurc_ser:\n",
    "        simurc_ser[el[\"simulacra\"][\"value\"]] = set()\n",
    "    simurc_ser[el[\"simulacra\"][\"value\"]].add(el[\"rc\"][\"value\"])"
   ]
  },
  {
   "cell_type": "markdown",
   "id": "c86d48cb-4d64-4b0f-814c-e95ce76bae14",
   "metadata": {},
   "source": [
    "# Precomputing the shared symbolic meanings between symbols"
   ]
  },
  {
   "cell_type": "code",
   "execution_count": 20,
   "id": "a542dbef-10b5-402f-92cb-994b736a9552",
   "metadata": {},
   "outputs": [],
   "source": [
    "from itertools import combinations,permutations"
   ]
  },
  {
   "cell_type": "code",
   "execution_count": 21,
   "id": "c9316427-2f6e-419c-ab71-ab3136539a1b",
   "metadata": {},
   "outputs": [
    {
     "name": "stderr",
     "output_type": "stream",
     "text": [
      "100%|█████████████████████████████████████████████████████████████████████| 485605/485605 [00:00<00:00, 1576818.59it/s]\n"
     ]
    }
   ],
   "source": [
    "from tqdm import tqdm\n",
    "simu_simu_conn = dict()\n",
    "for comb in tqdm(list(combinations(list(simurc_ser.keys()), 2))):\n",
    "    total = len(simurc_ser[comb[0]].intersection(simurc_ser[comb[1]]))\n",
    "    simu_simu_conn[comb] = total"
   ]
  },
  {
   "cell_type": "markdown",
   "id": "a608f79e-708f-4aa0-95b0-ac11d80c24ed",
   "metadata": {},
   "source": [
    "# Extracting Paintings and their depictions (if the depictions are included in one of the symbols extracted above)"
   ]
  },
  {
   "cell_type": "code",
   "execution_count": 4,
   "id": "89294c53-d7cd-4d3e-a330-9bb7a42c5250",
   "metadata": {},
   "outputs": [],
   "source": [
    "query = '''\n",
    "prefix crm:<http://www.cidoc-crm.org/cidoc-crm/> \n",
    "prefix dul:<http://www.ontologydesignpatterns.org/ont/dul/DUL.owl#> \n",
    "prefix hyr:<https://w3id.org/simulation/data/> \n",
    "prefix icon:<https://w3id.org/icon/ontology/> \n",
    "prefix prov:<http://www.w3.org/ns/prov#> \n",
    "prefix rdfs:<http://www.w3.org/2000/01/rdf-schema#> \n",
    "prefix sim:<https://w3id.org/simulation/ontology/> \n",
    "prefix wd:<http://www.wikidata.org/entity/>  \n",
    "  select distinct ?painting ?simulacra WHERE { ?ico icon:aboutWorkOfArt ?painting;\n",
    "                                          icon:recognizedImage ?img .\n",
    "                                    ?img icon:hasSymbol ?symbol .\n",
    "                                    ?symbol sim:hasSimulacrum ?simulacra;\n",
    "                                    sim:hasRealityCounterpart|sim:easedRealityCounterpart|\n",
    "                                               sim:healedRealityCounterpart|sim:restoredRealityCounterpart|\n",
    "                                               sim:preventedRealityCounterpart\n",
    "                                               |sim:elicitedRealityCounterpart ?rc ;\n",
    "                                    sim:hasContext ?context . {\n",
    "                                    select ?rc (count(distinct ?simu) as ?tot) where { ?simu sim:hasRealityCounterpart|sim:easedRealityCounterpart|\n",
    "                                               sim:healedRealityCounterpart|sim:restoredRealityCounterpart|\n",
    "                                               sim:preventedRealityCounterpart\n",
    "                                               |sim:elicitedRealityCounterpart ?rc } group by ?rc having (?tot > 1)\n",
    "                                            } }'''\n",
    "res = server.query(query)"
   ]
  },
  {
   "cell_type": "code",
   "execution_count": 5,
   "id": "fc91fdcb-791d-4e6f-852f-42ed578355b4",
   "metadata": {},
   "outputs": [],
   "source": [
    "connect_p = dict()\n",
    "for el in res[\"results\"][\"bindings\"]:\n",
    "    if el[\"painting\"][\"value\"] not in connect_p:\n",
    "        connect_p[el[\"painting\"][\"value\"]] = set()\n",
    "    connect_p[el[\"painting\"][\"value\"]].add(el[\"simulacra\"][\"value\"])"
   ]
  },
  {
   "cell_type": "code",
   "execution_count": 6,
   "id": "8bb20327-f4f3-4d02-8be1-4d19defe3aa7",
   "metadata": {},
   "outputs": [
    {
     "data": {
      "text/plain": [
       "75119"
      ]
     },
     "execution_count": 6,
     "metadata": {},
     "output_type": "execute_result"
    }
   ],
   "source": [
    "len(connect_p)"
   ]
  },
  {
   "cell_type": "markdown",
   "id": "fdae0131-acbb-4eb7-876c-8e1a56321034",
   "metadata": {},
   "source": [
    "# Counting the connections between the extracted paintings\n",
    "\n",
    "**important** this step took around 2 hours to complete"
   ]
  },
  {
   "cell_type": "code",
   "execution_count": null,
   "id": "fdcd7a50-abc5-4a8c-a714-653d4ef89484",
   "metadata": {},
   "outputs": [],
   "source": [
    "connections = 0\n",
    "p_ncp = dict()\n",
    "p_nc = dict()\n",
    "p_ncperp = dict()\n",
    "for painting1 in tqdm(connect_p):\n",
    "    for painting2 in connect_p:\n",
    "        if painting1 != painting2:\n",
    "            for dep in connect_p[painting1]:\n",
    "                for dep2 in connect_p[painting2]:\n",
    "                    if (dep, dep2) in simu_simu_conn:\n",
    "                        connections +=simu_simu_conn[dep, dep2]"
   ]
  },
  {
   "cell_type": "code",
   "execution_count": null,
   "id": "d99db921-905d-44ef-96bb-2bcd1294d852",
   "metadata": {},
   "outputs": [],
   "source": [
    "print(connections)"
   ]
  }
 ],
 "metadata": {
  "kernelspec": {
   "display_name": "Python 3 (ipykernel)",
   "language": "python",
   "name": "python3"
  },
  "language_info": {
   "codemirror_mode": {
    "name": "ipython",
    "version": 3
   },
   "file_extension": ".py",
   "mimetype": "text/x-python",
   "name": "python",
   "nbconvert_exporter": "python",
   "pygments_lexer": "ipython3",
   "version": "3.8.10"
  }
 },
 "nbformat": 4,
 "nbformat_minor": 5
}
